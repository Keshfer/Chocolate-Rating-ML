{
  "cells": [
    {
      "cell_type": "code",
      "execution_count": 8,
      "id": "f6f6c105-3ef7-4ebe-833e-3c8e18fd63f7",
      "metadata": {
        "colab": {
          "base_uri": "https://localhost:8080/"
        },
        "id": "f6f6c105-3ef7-4ebe-833e-3c8e18fd63f7",
        "outputId": "192209b3-b2db-43b7-80a9-fead5eee8802"
      },
      "outputs": [
        {
          "output_type": "stream",
          "name": "stdout",
          "text": [
            "Requirement already satisfied: lightgbm in /usr/local/lib/python3.10/dist-packages (4.5.0)\n",
            "Requirement already satisfied: numpy>=1.17.0 in /usr/local/lib/python3.10/dist-packages (from lightgbm) (1.26.4)\n",
            "Requirement already satisfied: scipy in /usr/local/lib/python3.10/dist-packages (from lightgbm) (1.13.1)\n"
          ]
        }
      ],
      "source": [
        "!pip install lightgbm"
      ]
    },
    {
      "cell_type": "code",
      "source": [
        "!git clone https://github.com/Keshfer/Chocolate-Rating-ML"
      ],
      "metadata": {
        "colab": {
          "base_uri": "https://localhost:8080/"
        },
        "id": "QzumaDvAFRl1",
        "outputId": "dc3a653e-1677-417b-dde0-17e4d30b2fe3"
      },
      "id": "QzumaDvAFRl1",
      "execution_count": 9,
      "outputs": [
        {
          "output_type": "stream",
          "name": "stdout",
          "text": [
            "Cloning into 'Chocolate-Rating-ML'...\n",
            "remote: Enumerating objects: 100, done.\u001b[K\n",
            "remote: Counting objects: 100% (100/100), done.\u001b[K\n",
            "remote: Compressing objects: 100% (73/73), done.\u001b[K\n",
            "remote: Total 100 (delta 53), reused 62 (delta 26), pack-reused 0 (from 0)\u001b[K\n",
            "Receiving objects: 100% (100/100), 3.44 MiB | 8.62 MiB/s, done.\n",
            "Resolving deltas: 100% (53/53), done.\n"
          ]
        }
      ]
    },
    {
      "cell_type": "code",
      "source": [
        "cd Chocolate-Rating-ML"
      ],
      "metadata": {
        "colab": {
          "base_uri": "https://localhost:8080/"
        },
        "id": "dtTR2yU0FgWX",
        "outputId": "fd9419ae-29ec-4571-a2e0-ba1cc6cb9063"
      },
      "id": "dtTR2yU0FgWX",
      "execution_count": 10,
      "outputs": [
        {
          "output_type": "stream",
          "name": "stdout",
          "text": [
            "/content/Chocolate-Rating-ML/Chocolate-Rating-ML\n"
          ]
        }
      ]
    },
    {
      "cell_type": "code",
      "execution_count": 11,
      "id": "bca2e9b7-72f6-44b2-8310-6c29511b082f",
      "metadata": {
        "id": "bca2e9b7-72f6-44b2-8310-6c29511b082f"
      },
      "outputs": [],
      "source": [
        "# Import approriate functions and packages\n",
        "import numpy as np\n",
        "import pandas as pd\n",
        "import lightgbm as lgb\n",
        "\n",
        "from sklearn.model_selection import train_test_split\n",
        "from sklearn.metrics import mean_squared_error\n",
        "\n",
        "# Ignore warnings\n",
        "import warnings\n",
        "warnings.filterwarnings('ignore')\n",
        "\n",
        "# Import the dataframe\n",
        "df = pd.read_csv('cacao_engineered.csv')\n",
        "\n",
        "# Create X and y training and testing data\n",
        "X = df.drop(['Rating'], axis=1)\n",
        "y = df['Rating']\n",
        "\n",
        "# Clean up columns of X so it works with the model\n",
        "X.columns = [col.replace(\" \", \"_\").replace(\":\", \"_\") for col in X.columns]\n",
        "\n",
        "X_train, X_test, y_train, y_test = train_test_split(X, y, test_size = 0.2, random_state = 42)"
      ]
    },
    {
      "cell_type": "code",
      "source": [
        "# Start creating lgb regression model\n",
        "# Create the lgb Dataset objects to store the training and testing data\n",
        "train_data = lgb.Dataset(X_train, label = y_train)\n",
        "test_data = lgb.Dataset(X_test, label = y_test, reference=train_data)\n",
        "\n",
        "# Set parameters for the lgb regression model\n",
        "# Objective: Set to regression so that the model tries to predict a regressive value (in this case, quality)\n",
        "# Metric: The loss metric to be used for the model. Set to mse for now.\n",
        "# Learning rate: How much to update the trees when refining\n",
        "# Feature fraction: The percentage of features to take into account when making model, used to prevent overfitting\n",
        "params = {\n",
        "    'objective': 'regression',\n",
        "    'metric': 'mse',\n",
        "    'learning_rate': 0.05,\n",
        "    'feature_fraction': 0.9,\n",
        "    'verbose':-1\n",
        "}\n",
        "\n",
        "# Train the actual model, passes in the parameters, training data, the number of rounds to train\n",
        "num_round = 100  # Number of boosting rounds\n",
        "model = lgb.train(\n",
        "    params,\n",
        "    train_data,\n",
        "    num_boost_round=num_round,\n",
        "    valid_sets=[train_data, test_data],\n",
        "    valid_names=['train', 'eval'],\n",
        ")\n",
        "\n",
        "# Predict on the test set, using the best iteration of the model for training\n",
        "y_pred = model.predict(X_test, num_iteration = model.best_iteration)\n",
        "\n",
        "# Calculate MSE\n",
        "mse = mean_squared_error(y_test, y_pred)\n",
        "print(f\"MSE: {mse}\")"
      ],
      "metadata": {
        "colab": {
          "base_uri": "https://localhost:8080/"
        },
        "id": "uOngRBU2FyTU",
        "outputId": "3c41f348-0322-4231-8364-70cdce968c9a"
      },
      "id": "uOngRBU2FyTU",
      "execution_count": 26,
      "outputs": [
        {
          "output_type": "stream",
          "name": "stdout",
          "text": [
            "MSE: 0.19547680507452356\n"
          ]
        }
      ]
    },
    {
      "cell_type": "code",
      "source": [
        "from sklearn.model_selection import GridSearchCV\n",
        "from lightgbm import LGBMRegressor\n",
        "\n",
        "# Create the model\n",
        "model = LGBMRegressor()\n",
        "\n",
        "# Parameter grid for grid search algorithm\n",
        "param_grid = {\n",
        "    'objective': ['regression'],\n",
        "    'metric': ['mse'],\n",
        "    'lambda_l2': [0.1],\n",
        "    'feature_fraction': [0.8, 0.9, 1.0],\n",
        "    'num_leaves': [20, 31, 40],\n",
        "    'learning_rate': [0.01, 0.05, 0.1],\n",
        "    'n_estimators': [30, 50, 100],\n",
        "    'max_depth': [-1, 10, 20]\n",
        "}\n",
        "\n",
        "# Grid search\n",
        "grid = GridSearchCV(\n",
        "    estimator=model,\n",
        "    param_grid=param_grid,\n",
        "    cv=3\n",
        ")\n",
        "\n",
        "# Fit the grid search\n",
        "grid.fit(X_train, y_train)\n",
        "\n",
        "# Print best parameters and score\n",
        "print(\"Best Parameters:\", grid.best_params_)\n",
        "print(\"Best Score:\", grid.best_score_)\n",
        "\n",
        "# Evaluate on test data\n",
        "best_model = grid.best_estimator_\n",
        "y_pred = best_model.predict(X_test)\n",
        "mse = mean_squared_error(y_test, y_pred)\n",
        "print(\"Test MSE:\", mse)"
      ],
      "metadata": {
        "colab": {
          "base_uri": "https://localhost:8080/"
        },
        "id": "WOLxq6PKRZe8",
        "outputId": "a3338dc8-6c22-49dc-aeff-9a60f841980d"
      },
      "id": "WOLxq6PKRZe8",
      "execution_count": 29,
      "outputs": [
        {
          "output_type": "stream",
          "name": "stdout",
          "text": [
            "Best Parameters: {'feature_fraction': 0.8, 'lambda_l2': 0.1, 'learning_rate': 0.05, 'max_depth': 20, 'metric': 'mse', 'n_estimators': 50, 'num_leaves': 40, 'objective': 'regression'}\n",
            "Best Score: 0.11746596541815173\n",
            "Test MSE: 0.19290720697219907\n"
          ]
        }
      ]
    }
  ],
  "metadata": {
    "kernelspec": {
      "display_name": "Python 3 (ipykernel)",
      "language": "python",
      "name": "python3"
    },
    "language_info": {
      "codemirror_mode": {
        "name": "ipython",
        "version": 3
      },
      "file_extension": ".py",
      "mimetype": "text/x-python",
      "name": "python",
      "nbconvert_exporter": "python",
      "pygments_lexer": "ipython3",
      "version": "3.12.7"
    },
    "colab": {
      "provenance": []
    }
  },
  "nbformat": 4,
  "nbformat_minor": 5
}