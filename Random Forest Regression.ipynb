{
 "cells": [
  {
   "cell_type": "code",
   "execution_count": 3,
   "id": "68fd242d-d8d7-4dfe-9662-7b609c3e71c4",
   "metadata": {},
   "outputs": [
    {
     "name": "stdout",
     "output_type": "stream",
     "text": [
      "Mean Squared Error 0.1767164810690423\n",
      "Root Mean Squared Error 0.42037659434017294\n",
      "Adjusted R Squared Score:  0.24190951638005953\n"
     ]
    }
   ],
   "source": [
    "import pandas as pd\n",
    "from sklearn.model_selection import train_test_split\n",
    "from sklearn.ensemble import RandomForestRegressor\n",
    "from sklearn.metrics import mean_squared_error, r2_score\n",
    "\n",
    "df = pd.read_csv('cacao_engineered.csv')\n",
    "\n",
    "#split data 75:25\n",
    "x = df.loc[:, df.columns != 'Rating']\n",
    "y = df['Rating']\n",
    "\n",
    "x_train, x_test, y_train, y_test = train_test_split(x, y, train_size=0.75)\n",
    "\n",
    "#Random Forest regression with default values\n",
    "model = RandomForestRegressor()\n",
    "\n",
    "#fit model\n",
    "model.fit(x_train, y_train)\n",
    "\n",
    "#predict on model\n",
    "y_pred = model.predict(x_test)\n",
    "\n",
    "#evaluate model\n",
    "mse = mean_squared_error(y_test, y_pred)\n",
    "print(\"Mean Squared Error\", mse)\n",
    "\n",
    "rmse = mse**0.5\n",
    "print(\"Root Mean Squared Error\", rmse)\n",
    "\n",
    "r2score = r2_score(y_test, y_pred)\n",
    "#adjusted rscore is just rscore but the rscore only improves if additional features actually improves the model's performance. \n",
    "#Basically it negates the weakness of rscore which is that the score increases as the number of features increase\n",
    "adjusted_r2score = 1- ((1 - r2score) * ((df.shape[0] - 1) / (df.shape[0] - df.shape[1] - 1)))\n",
    "print(\"Adjusted R Squared Score: \", adjusted_r2score)\n",
    "\n",
    "\n",
    "\n",
    "\n",
    "\n",
    "\n"
   ]
  },
  {
   "cell_type": "markdown",
   "id": "1c4abc90-accf-4299-89a9-517cca06bd31",
   "metadata": {},
   "source": [
    "Above output is from the Random Forest Regression with the default settings. Currently, according to the Adjusted R Squared Score, the model is not performing well since it has a score of 0.24. In other words, the attributes currently do not predict the ratings very well. The Mean Squared Error and Root Mean Squared Error currently don't have much meaning since we don't have other Mean Sqaure Errors and Root Mean Squared Errors to compare them to. So let's try using grid search to see parameters work best for Random Forest Regression."
   ]
  }
 ],
 "metadata": {
  "kernelspec": {
   "display_name": "Python 3 (ipykernel)",
   "language": "python",
   "name": "python3"
  },
  "language_info": {
   "codemirror_mode": {
    "name": "ipython",
    "version": 3
   },
   "file_extension": ".py",
   "mimetype": "text/x-python",
   "name": "python",
   "nbconvert_exporter": "python",
   "pygments_lexer": "ipython3",
   "version": "3.11.7"
  }
 },
 "nbformat": 4,
 "nbformat_minor": 5
}
