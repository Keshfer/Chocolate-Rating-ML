{
 "cells": [
  {
   "cell_type": "code",
   "execution_count": 11,
   "id": "f6fd8f81-c809-49c1-80d3-d3e9bca8f2bb",
   "metadata": {},
   "outputs": [
    {
     "name": "stdout",
     "output_type": "stream",
     "text": [
      "  Company (Maker-if known) Specific Bean Originor Bar Name   REF  Review Date  \\\n",
      "0                 A. Morin                     Agua Grande  1876         2016   \n",
      "1                 A. Morin                           Kpime  1676         2015   \n",
      "2                 A. Morin                          Atsane  1676         2015   \n",
      "3                 A. Morin                           Akata  1680         2015   \n",
      "4                 A. Morin                          Quilla  1704         2015   \n",
      "\n",
      "  CocoaPercent Company Location  Rating Bean Type Broad Bean Origin  \n",
      "0          63%           France    3.75                    Sao Tome  \n",
      "1          70%           France    2.75                        Togo  \n",
      "2          70%           France    3.00                        Togo  \n",
      "3          70%           France    3.50                        Togo  \n",
      "4          70%           France    3.50                        Peru  \n"
     ]
    }
   ],
   "source": [
    "import pandas as pd\n",
    "\n",
    "\n",
    "#import dataset\n",
    "df = pd.read_csv('flavors_of_cacao_mod.csv')\n",
    "print(df.head())\n",
    "\n",
    "#Exploratory data analysis"
   ]
  },
  {
   "cell_type": "code",
   "execution_count": null,
   "id": "9716bbe7-6368-4b96-b857-5658d43dc554",
   "metadata": {},
   "outputs": [],
   "source": []
  }
 ],
 "metadata": {
  "kernelspec": {
   "display_name": "Python 3 (ipykernel)",
   "language": "python",
   "name": "python3"
  },
  "language_info": {
   "codemirror_mode": {
    "name": "ipython",
    "version": 3
   },
   "file_extension": ".py",
   "mimetype": "text/x-python",
   "name": "python",
   "nbconvert_exporter": "python",
   "pygments_lexer": "ipython3",
   "version": "3.11.7"
  }
 },
 "nbformat": 4,
 "nbformat_minor": 5
}
